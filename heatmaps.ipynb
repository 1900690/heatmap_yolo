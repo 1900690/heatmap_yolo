{
  "cells": [
    {
      "cell_type": "markdown",
      "metadata": {
        "id": "o68Sg1oOeZm2"
      },
      "source": [
        "#セットアップ\n",
        "\n",
        "Pip で `ultralytics` と [依存関係](https://github.com/ultralytics/ultralytics/blob/main/pyproject.toml)をインストールし、ソフトウェアとハードウェアをチェックする。"
      ]
    },
    {
      "cell_type": "code",
      "execution_count": null,
      "metadata": {
        "colab": {
          "base_uri": "https://localhost:8080/"
        },
        "id": "9dSwz_uOReMI",
        "outputId": "99866c77-e210-41e1-d581-8508371ce634"
      },
      "outputs": [
        {
          "name": "stdout",
          "output_type": "stream",
          "text": [
            "Ultralytics 8.2.17 🚀 Python-3.10.12 torch-2.2.1+cu121 CUDA:0 (T4, 15102MiB)\n",
            "Setup complete ✅ (2 CPUs, 12.7 GB RAM, 29.8/78.2 GB disk)\n"
          ]
        }
      ],
      "source": [
        "%pip install ultralytics\n",
        "import ultralytics\n",
        "\n",
        "ultralytics.checks()"
      ]
    },
    {
      "cell_type": "markdown",
      "metadata": {
        "id": "m7VkxQ2aeg7k"
      },
      "source": [
        "#ヒートマップ入門\n",
        " [Ultralytics YOLO11](https://github.com/ultralytics/ultralytics/)で生成されるヒートマップは、複雑なデータを色分けされた鮮やかなマトリックスに変換する。この視覚的なツールは、様々なデータ値を表現するために色のスペクトルを使用し、暖かい色調はより高い強度を示し、より低い色調はより低い値を示します。ヒートマップは、複雑なデータパターン、相関関係、異常値を視覚化することに優れており、多様な領域にわたるデータ解釈へのアクセスしやすく魅力的なアプローチを提供する。\n",
        "\n",
        "## 実世界での応用\n",
        "\n",
        "|                                                                 交通                                                                  |                                                                 流通                                                                  |\n",
        "|:-----------------------------------------------------------------------------------------------------------------------------------------------:|:---------------------------------------------------------------------------------------------------------------------------------------:|\n",
        "| ![Ultralytics YOLO11 Transportation Heatmap](https://github.com/RizwanMunawar/ultralytics/assets/62513924/288d7053-622b-4452-b4e4-1f41aeb764aa) | ![Ultralytics YOLO11 Retail Heatmap](https://github.com/RizwanMunawar/ultralytics/assets/62513924/edef75ad-50a7-4c0a-be4a-a66cdfc12802) |\n",
        "|                                                    Ultralytics YOLO11 Transportation Heatmap                                                    |                                                    Ultralytics YOLO11 Retail Heatmap                                                    |\n"
      ]
    },
    {
      "cell_type": "code",
      "execution_count": null,
      "metadata": {
        "id": "Cx-u59HQdu2o"
      },
      "outputs": [],
      "source": [
        "import cv2\n",
        "\n",
        "from ultralytics import solutions\n",
        "\n",
        "# Open video file\n",
        "cap = cv2.VideoCapture(\"path/to/video/file.mp4\")\n",
        "assert cap.isOpened(), \"Error reading video file\"\n",
        "\n",
        "# Get video properties\n",
        "w, h, fps = (int(cap.get(x)) for x in (cv2.CAP_PROP_FRAME_WIDTH, cv2.CAP_PROP_FRAME_HEIGHT, cv2.CAP_PROP_FPS))\n",
        "\n",
        "# Initialize video writer\n",
        "video_writer = cv2.VideoWriter(\"heatmap_output.avi\", cv2.VideoWriter_fourcc(*\"mp4v\"), fps, (w, h))\n",
        "\n",
        "# Initialize heatmap object\n",
        "heatmap_obj = solutions.Heatmap(\n",
        "    colormap=cv2.COLORMAP_PARULA,  # Color of the heatmap\n",
        "    show=True,  # Display the image during processing\n",
        "    model=\"yolo11n.pt\",  # Ultralytics YOLO11 model file\n",
        ")\n",
        "\n",
        "while cap.isOpened():\n",
        "    success, im0 = cap.read()\n",
        "    if not success:\n",
        "        print(\"Video frame is empty or video processing has been successfully completed.\")\n",
        "        break\n",
        "\n",
        "    # Generate heatmap on the frame\n",
        "    im0 = heatmap_obj.generate_heatmap(im0)\n",
        "\n",
        "    # Write the frame to the output video\n",
        "    video_writer.write(im0)\n",
        "\n",
        "# Release resources\n",
        "cap.release()\n",
        "video_writer.release()\n",
        "cv2.destroyAllWindows()"
      ]
    },
    {
      "cell_type": "code",
      "source": [
        "from YOLOv8_Explainer import yolov8_heatmap, display_images\n",
        "\n",
        "model = yolov8_heatmap(\n",
        "    weight=\"/content/yolov8s.pt\",\n",
        "        conf_threshold=0.4,\n",
        "        #device = \"cpu\",\n",
        "        method = \"EigenCAM\",\n",
        "        layer=[10, 12, 14, 16, 18, -3],\n",
        "        #backward_type=\"all\",\n",
        "        ratio=0.02,\n",
        "        show_box=False,\n",
        "        renormalize=False,\n",
        ")\n",
        "\n",
        "imagelist = model(\n",
        "    img_path=\"/content/001 (2).jpg\",\n",
        "    )\n",
        "\n",
        "display_images(imagelist)"
      ],
      "metadata": {
        "id": "TBiXjyQnxDZn"
      },
      "execution_count": null,
      "outputs": []
    }
  ],
  "metadata": {
    "accelerator": "GPU",
    "colab": {
      "gpuType": "T4",
      "provenance": [],
      "toc_visible": true
    },
    "kernelspec": {
      "display_name": "Python 3",
      "name": "python3"
    },
    "language_info": {
      "name": "python"
    }
  },
  "nbformat": 4,
  "nbformat_minor": 0
}