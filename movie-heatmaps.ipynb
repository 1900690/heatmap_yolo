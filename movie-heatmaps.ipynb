{
  "cells": [
    {
      "cell_type": "markdown",
      "metadata": {
        "id": "view-in-github",
        "colab_type": "text"
      },
      "source": [
        "<a href=\"https://colab.research.google.com/github/1900690/heatmap_yolo/blob/main/movie-heatmaps.ipynb\" target=\"_parent\"><img src=\"https://colab.research.google.com/assets/colab-badge.svg\" alt=\"Open In Colab\"/></a>"
      ]
    },
    {
      "cell_type": "markdown",
      "metadata": {
        "id": "o68Sg1oOeZm2"
      },
      "source": [
        "#セットアップ\n",
        "\n",
        "Pip で `ultralytics` と [依存関係](https://github.com/ultralytics/ultralytics/blob/main/pyproject.toml)をインストールし、ソフトウェアとハードウェアをチェックする。"
      ]
    },
    {
      "cell_type": "code",
      "execution_count": 1,
      "metadata": {
        "colab": {
          "base_uri": "https://localhost:8080/"
        },
        "id": "9dSwz_uOReMI",
        "outputId": "7cdcae61-d055-400e-bcd0-c847bc95c971"
      },
      "outputs": [
        {
          "output_type": "stream",
          "name": "stdout",
          "text": [
            "Ultralytics 8.3.60 🚀 Python-3.10.12 torch-2.5.1+cu121 CPU (Intel Xeon 2.20GHz)\n",
            "Setup complete ✅ (2 CPUs, 12.7 GB RAM, 32.5/107.7 GB disk)\n"
          ]
        }
      ],
      "source": [
        "%pip install ultralytics\n",
        "import ultralytics\n",
        "\n",
        "ultralytics.checks()"
      ]
    },
    {
      "cell_type": "code",
      "source": [
        "#ライブラリをインポート(機能を使えるようにする)\n",
        "import shutil\n",
        "import os\n",
        "from google.colab import files\n",
        "import math\n",
        "\n",
        "\n",
        "#すでにフォルダがある場合は消す\n",
        "if os.path.exists(\"/content/datasets\"):\n",
        "  shutil.rmtree(\"/content/datasets\")\n",
        "\n",
        "#データをアップロード\n",
        "#uploaded = files.upload()\n",
        "#file_name = list(uploaded.keys())[0]\n",
        "file_name =\"check.zip\"\n",
        "#データを解凍\n",
        "shutil.unpack_archive('/content/'+file_name, '/content/')\n",
        "#zipを消す\n",
        "os.remove('/content/'+file_name)\n",
        ""
      ],
      "metadata": {
        "id": "E_nbk0x1NfzH"
      },
      "execution_count": 2,
      "outputs": []
    },
    {
      "cell_type": "markdown",
      "metadata": {
        "id": "m7VkxQ2aeg7k"
      },
      "source": [
        "#ヒートマップ入門\n",
        " [Ultralytics YOLO11](https://docs.ultralytics.com/ja/guides/heatmaps/#introduction-to-heatmaps)によって生成されるヒートマップは、複雑なデータを色分けされた鮮やかなマトリックスに変換します。この視覚化ツールは、様々なデータ値を色のグラデーションで表現し、暖かい色ほど値が高く、冷たい色ほど値が低いことを示します。ヒートマップは、複雑なデータのパターン、相関関係、異常値を視覚的に捉えやすく、様々な分野におけるデータの解釈をより直感的かつ魅力的に行うための有効な手段です。\n",
        "\n",
        "## 実世界での応用\n",
        "\n",
        "|                                                                 交通                                                                  |                                                                 流通                                                                  |\n",
        "|:-----------------------------------------------------------------------------------------------------------------------------------------------:|:---------------------------------------------------------------------------------------------------------------------------------------:|\n",
        "| ![Ultralytics YOLO11 Transportation Heatmap](https://github.com/RizwanMunawar/ultralytics/assets/62513924/288d7053-622b-4452-b4e4-1f41aeb764aa) | ![Ultralytics YOLO11 Retail Heatmap](https://github.com/RizwanMunawar/ultralytics/assets/62513924/edef75ad-50a7-4c0a-be4a-a66cdfc12802) |\n",
        "|                                                    Ultralytics YOLO11 Transportation Heatmap                                                    |                                                    Ultralytics YOLO11 Retail Heatmap                                                    |\n"
      ]
    },
    {
      "cell_type": "markdown",
      "source": [
        "#動画で分析"
      ],
      "metadata": {
        "id": "0AUu35X5giyG"
      }
    },
    {
      "cell_type": "code",
      "source": [
        "# Pass a source video\n",
        "!yolo solutions heatmap source=\"/content/check/001 (3)_image_flip.jpg\" model=\"/content/classify.pt\""
      ],
      "metadata": {
        "id": "C9WsNoV1kmsK",
        "outputId": "596981ec-fd2c-41d8-871a-0f3ed802e8ca",
        "colab": {
          "base_uri": "https://localhost:8080/"
        }
      },
      "execution_count": 4,
      "outputs": [
        {
          "output_type": "stream",
          "name": "stdout",
          "text": [
            "Ultralytics Solutions: ✅ {'region': None, 'show_in': True, 'show_out': True, 'colormap': None, 'up_angle': 145.0, 'down_angle': 90, 'kpts': [6, 8, 10], 'analytics_type': 'line', 'json_file': None, 'records': 5, 'source': '/content/check/001 (3)_image_flip.jpg', 'model': '/content/classify.pt'}\n",
            "WARNING ⚠️ Environment does not support cv2.imshow() or PIL Image.show()\n",
            "\n",
            "\u001b[31m\u001b[1mrequirements:\u001b[0m Ultralytics requirement ['lap>=0.5.12'] not found, attempting AutoUpdate...\n",
            "Collecting lap>=0.5.12\n",
            "  Downloading lap-0.5.12-cp310-cp310-manylinux_2_5_x86_64.manylinux1_x86_64.manylinux_2_17_x86_64.manylinux2014_x86_64.whl.metadata (6.2 kB)\n",
            "Requirement already satisfied: numpy>=1.21.6 in /usr/local/lib/python3.10/dist-packages (from lap>=0.5.12) (1.26.4)\n",
            "Downloading lap-0.5.12-cp310-cp310-manylinux_2_5_x86_64.manylinux1_x86_64.manylinux_2_17_x86_64.manylinux2014_x86_64.whl (1.7 MB)\n",
            "   ━━━━━━━━━━━━━━━━━━━━━━━━━━━━━━━━━━━━━━━━ 1.7/1.7 MB 129.5 MB/s eta 0:00:00\n",
            "Installing collected packages: lap\n",
            "Successfully installed lap-0.5.12\n",
            "\n",
            "\u001b[31m\u001b[1mrequirements:\u001b[0m AutoUpdate success ✅ 4.1s, installed 1 package: ['lap>=0.5.12']\n",
            "\u001b[31m\u001b[1mrequirements:\u001b[0m ⚠️ \u001b[1mRestart runtime or rerun command for updates to take effect\u001b[0m\n",
            "\n",
            "\n",
            "Traceback (most recent call last):\n",
            "  File \"/usr/local/bin/yolo\", line 8, in <module>\n",
            "    sys.exit(entrypoint())\n",
            "  File \"/usr/local/lib/python3.10/dist-packages/ultralytics/cfg/__init__.py\", line 890, in entrypoint\n",
            "    special[a.lower()]()\n",
            "  File \"/usr/local/lib/python3.10/dist-packages/ultralytics/cfg/__init__.py\", line 857, in <lambda>\n",
            "    \"solutions\": lambda: handle_yolo_solutions(args[1:]),\n",
            "  File \"/usr/local/lib/python3.10/dist-packages/ultralytics/cfg/__init__.py\", line 730, in handle_yolo_solutions\n",
            "    frame = process(frame, f_n := f_n + 1) if s_n == \"analytics\" else process(frame)\n",
            "  File \"/usr/local/lib/python3.10/dist-packages/ultralytics/solutions/heatmap.py\", line 93, in generate_heatmap\n",
            "    self.extract_tracks(im0)  # Extract tracks\n",
            "  File \"/usr/local/lib/python3.10/dist-packages/ultralytics/solutions/solutions.py\", line 113, in extract_tracks\n",
            "    self.tracks = self.model.track(source=im0, persist=True, classes=self.CFG[\"classes\"], **self.track_add_args)\n",
            "  File \"/usr/local/lib/python3.10/dist-packages/ultralytics/engine/model.py\", line 605, in track\n",
            "    return self.predict(source=source, stream=stream, **kwargs)\n",
            "  File \"/usr/local/lib/python3.10/dist-packages/ultralytics/engine/model.py\", line 558, in predict\n",
            "    return self.predictor.predict_cli(source=source) if is_cli else self.predictor(source=source, stream=stream)\n",
            "  File \"/usr/local/lib/python3.10/dist-packages/ultralytics/engine/predictor.py\", line 173, in __call__\n",
            "    return list(self.stream_inference(source, model, *args, **kwargs))  # merge list of Result into one\n",
            "  File \"/usr/local/lib/python3.10/dist-packages/torch/utils/_contextlib.py\", line 36, in generator_context\n",
            "    response = gen.send(None)\n",
            "  File \"/usr/local/lib/python3.10/dist-packages/ultralytics/engine/predictor.py\", line 267, in stream_inference\n",
            "    self.run_callbacks(\"on_predict_postprocess_end\")\n",
            "  File \"/usr/local/lib/python3.10/dist-packages/ultralytics/engine/predictor.py\", line 404, in run_callbacks\n",
            "    callback(self)\n",
            "  File \"/usr/local/lib/python3.10/dist-packages/ultralytics/trackers/track.py\", line 77, in on_predict_postprocess_end\n",
            "    det = (predictor.results[i].obb if is_obb else predictor.results[i].boxes).cpu().numpy()\n",
            "AttributeError: 'NoneType' object has no attribute 'cpu'\n"
          ]
        }
      ]
    },
    {
      "cell_type": "code",
      "execution_count": null,
      "metadata": {
        "id": "Cx-u59HQdu2o"
      },
      "outputs": [],
      "source": [
        "import cv2\n",
        "\n",
        "from ultralytics import solutions\n",
        "\n",
        "# Open video file\n",
        "cap = cv2.VideoCapture(\"path/to/video/file.mp4\")\n",
        "assert cap.isOpened(), \"Error reading video file\"\n",
        "\n",
        "# Get video properties\n",
        "w, h, fps = (int(cap.get(x)) for x in (cv2.CAP_PROP_FRAME_WIDTH, cv2.CAP_PROP_FRAME_HEIGHT, cv2.CAP_PROP_FPS))\n",
        "\n",
        "# Initialize video writer\n",
        "video_writer = cv2.VideoWriter(\"heatmap_output.avi\", cv2.VideoWriter_fourcc(*\"mp4v\"), fps, (w, h))\n",
        "\n",
        "# Initialize heatmap object\n",
        "heatmap_obj = solutions.Heatmap(\n",
        "    colormap=cv2.COLORMAP_PARULA,  # Color of the heatmap\n",
        "    show=True,  # Display the image during processing\n",
        "    model=\"yolo11n.pt\",  # Ultralytics YOLO11 model file\n",
        ")\n",
        "\n",
        "while cap.isOpened():\n",
        "    success, im0 = cap.read()\n",
        "    if not success:\n",
        "        print(\"Video frame is empty or video processing has been successfully completed.\")\n",
        "        break\n",
        "\n",
        "    # Generate heatmap on the frame\n",
        "    im0 = heatmap_obj.generate_heatmap(im0)\n",
        "\n",
        "    # Write the frame to the output video\n",
        "    video_writer.write(im0)\n",
        "\n",
        "# Release resources\n",
        "cap.release()\n",
        "video_writer.release()\n",
        "cv2.destroyAllWindows()"
      ]
    }
  ],
  "metadata": {
    "accelerator": "GPU",
    "colab": {
      "gpuType": "T4",
      "provenance": [],
      "include_colab_link": true
    },
    "kernelspec": {
      "display_name": "Python 3",
      "name": "python3"
    },
    "language_info": {
      "name": "python"
    }
  },
  "nbformat": 4,
  "nbformat_minor": 0
}